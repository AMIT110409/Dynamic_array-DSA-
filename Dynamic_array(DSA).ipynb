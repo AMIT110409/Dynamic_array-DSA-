{
  "nbformat": 4,
  "nbformat_minor": 0,
  "metadata": {
    "colab": {
      "provenance": [],
      "authorship_tag": "ABX9TyM6fRyOQU7Q32MwPJpujXBc",
      "include_colab_link": true
    },
    "kernelspec": {
      "name": "python3",
      "display_name": "Python 3"
    },
    "language_info": {
      "name": "python"
    }
  },
  "cells": [
    {
      "cell_type": "markdown",
      "metadata": {
        "id": "view-in-github",
        "colab_type": "text"
      },
      "source": [
        "<a href=\"https://colab.research.google.com/github/AMIT110409/Dynamic_array-DSA-/blob/main/Dynamic_array(DSA).ipynb\" target=\"_parent\"><img src=\"https://colab.research.google.com/assets/colab-badge.svg\" alt=\"Open In Colab\"/></a>"
      ]
    },
    {
      "cell_type": "code",
      "execution_count": 15,
      "metadata": {
        "id": "E1pEzg0N9aD7"
      },
      "outputs": [],
      "source": [
        "import sys"
      ]
    },
    {
      "cell_type": "markdown",
      "source": [
        "Dynamic array \n",
        "\n",
        "create list []\n",
        "\n",
        "Len[]\n",
        "\n",
        "append[]\n",
        "\n",
        "print[]\n",
        "\n",
        "indexing[]\n",
        "\n",
        "pop[]\n",
        "\n",
        "clear[]\n",
        "\n",
        "find[]\n",
        "\n",
        "insert[]\n",
        "\n",
        "delete[]\n",
        "\n",
        "remove[]\n",
        "\n",
        "\n",
        "sort/min/max/sum/extend\n",
        "\n",
        "negative indexing/slicing/ merge  . "
      ],
      "metadata": {
        "id": "ebcsPQv7IW9C"
      }
    },
    {
      "cell_type": "code",
      "source": [
        "L =[ ]\n",
        "\n",
        "sys.getsizeof(L)"
      ],
      "metadata": {
        "colab": {
          "base_uri": "https://localhost:8080/"
        },
        "id": "r2-MxTH59sSb",
        "outputId": "6b4f3d27-97bc-46d9-96c6-5e6c35eff1b7"
      },
      "execution_count": 16,
      "outputs": [
        {
          "output_type": "execute_result",
          "data": {
            "text/plain": [
              "56"
            ]
          },
          "metadata": {},
          "execution_count": 16
        }
      ]
    },
    {
      "cell_type": "code",
      "source": [
        "L.append('258')\n"
      ],
      "metadata": {
        "id": "26ibBRQb9sX8"
      },
      "execution_count": 29,
      "outputs": []
    },
    {
      "cell_type": "code",
      "source": [
        "L"
      ],
      "metadata": {
        "colab": {
          "base_uri": "https://localhost:8080/"
        },
        "id": "C6o9xpea9sY0",
        "outputId": "629a7a7f-8a26-4913-f20d-d04005746b5a"
      },
      "execution_count": 30,
      "outputs": [
        {
          "output_type": "execute_result",
          "data": {
            "text/plain": [
              "['pythonlist', 'datascience', '1', '25', '258']"
            ]
          },
          "metadata": {},
          "execution_count": 30
        }
      ]
    },
    {
      "cell_type": "code",
      "source": [
        "sys.getsizeof(L)"
      ],
      "metadata": {
        "colab": {
          "base_uri": "https://localhost:8080/"
        },
        "id": "2F4DGki09scI",
        "outputId": "8c8ef7a2-99fd-4c71-9490-2413047f22b4"
      },
      "execution_count": 31,
      "outputs": [
        {
          "output_type": "execute_result",
          "data": {
            "text/plain": [
              "120"
            ]
          },
          "metadata": {},
          "execution_count": 31
        }
      ]
    },
    {
      "cell_type": "code",
      "source": [
        "for i in range(1,100):\n",
        "  print(i,sys.getsizeof(L))\n",
        "  L.append(i)\n",
        "  "
      ],
      "metadata": {
        "colab": {
          "base_uri": "https://localhost:8080/"
        },
        "id": "wrul3uJc9sfL",
        "outputId": "7ebfae01-567c-45d7-8b24-a5b7866d2f86"
      },
      "execution_count": 32,
      "outputs": [
        {
          "output_type": "stream",
          "name": "stdout",
          "text": [
            "1 120\n",
            "2 120\n",
            "3 120\n",
            "4 120\n",
            "5 184\n",
            "6 184\n",
            "7 184\n",
            "8 184\n",
            "9 184\n",
            "10 184\n",
            "11 184\n",
            "12 184\n",
            "13 256\n",
            "14 256\n",
            "15 256\n",
            "16 256\n",
            "17 256\n",
            "18 256\n",
            "19 256\n",
            "20 256\n",
            "21 256\n",
            "22 336\n",
            "23 336\n",
            "24 336\n",
            "25 336\n",
            "26 336\n",
            "27 336\n",
            "28 336\n",
            "29 336\n",
            "30 336\n",
            "31 336\n",
            "32 424\n",
            "33 424\n",
            "34 424\n",
            "35 424\n",
            "36 424\n",
            "37 424\n",
            "38 424\n",
            "39 424\n",
            "40 424\n",
            "41 424\n",
            "42 424\n",
            "43 520\n",
            "44 520\n",
            "45 520\n",
            "46 520\n",
            "47 520\n",
            "48 520\n",
            "49 520\n",
            "50 520\n",
            "51 520\n",
            "52 520\n",
            "53 520\n",
            "54 520\n",
            "55 632\n",
            "56 632\n",
            "57 632\n",
            "58 632\n",
            "59 632\n",
            "60 632\n",
            "61 632\n",
            "62 632\n",
            "63 632\n",
            "64 632\n",
            "65 632\n",
            "66 632\n",
            "67 632\n",
            "68 632\n",
            "69 760\n",
            "70 760\n",
            "71 760\n",
            "72 760\n",
            "73 760\n",
            "74 760\n",
            "75 760\n",
            "76 760\n",
            "77 760\n",
            "78 760\n",
            "79 760\n",
            "80 760\n",
            "81 760\n",
            "82 760\n",
            "83 760\n",
            "84 760\n",
            "85 904\n",
            "86 904\n",
            "87 904\n",
            "88 904\n",
            "89 904\n",
            "90 904\n",
            "91 904\n",
            "92 904\n",
            "93 904\n",
            "94 904\n",
            "95 904\n",
            "96 904\n",
            "97 904\n",
            "98 904\n",
            "99 904\n"
          ]
        }
      ]
    },
    {
      "cell_type": "code",
      "source": [
        "import ctypes"
      ],
      "metadata": {
        "id": "9Qj5rbX39sur"
      },
      "execution_count": 33,
      "outputs": []
    },
    {
      "cell_type": "code",
      "source": [
        "from re import I\n",
        "from typing import ItemsView\n",
        "class Meralist:\n",
        "\n",
        "  def __init__(self): ## it is a constructor \n",
        "    self.size = 1 ## this represent how many items can we add \n",
        "    self.n = 0 ## this show how mmany items are their in this \n",
        "    ## we create a C type array with size =self.size\n",
        "    self.A = self.__make__array(self.size)\n",
        "\n",
        "  def __len__(self):\n",
        "    return self.n   \n",
        "\n",
        "  def __str__(self):\n",
        "    #[1,2,3]\n",
        "    result = '' ## empty \n",
        "    for i  in range(self.n):\n",
        "      result = result + str(self.A[i]) + ','\n",
        "\n",
        "\n",
        "    return '['+result[:-1]+']'\n",
        "\n",
        "\n",
        "  def __getitem__(self,index):\n",
        "    if 0<= index < self.n:\n",
        "      return self.A(index)\n",
        "    else:\n",
        "      return 'IndexError _ Index out of range'\n",
        "\n",
        "\n",
        "  def __delitem___(self, pos):\n",
        "     # delete\n",
        "     if 0<= pos < self.n:\n",
        "\n",
        "      for i in range(pos,self.n-1):\n",
        "       self.A[i] = self.A[i+1]\n",
        "\n",
        "     self.n = self.n - 1    \n",
        "\n",
        "\n",
        "\n",
        "  def append(self,item):  \n",
        "    if self.n  == self.size:\n",
        "         ## resize \n",
        "         self.__resize(self.size*2)\n",
        "\n",
        "\n",
        "   ## append \n",
        "    self.A[self.n] = item\n",
        "    self.n = self.n + 1      \n",
        "  \n",
        "  def pop(self):\n",
        "    if self.n == 0:\n",
        "      return 'Empty list'\n",
        "\n",
        "    print(self.A[self.n-1])  \n",
        "    self.n = self.n + 1 \n",
        "\n",
        "  def clear(self):\n",
        "    self.n = 0 \n",
        "    self.size = 1  \n",
        "\n",
        "  def find(self,item):\n",
        "    for i in range(self.n):\n",
        "      if self.A[i] == item:\n",
        "        return i\n",
        "    return 'Value error - not in  list '\n",
        "\n",
        "\n",
        "  def insert(self,pos,item): ## kis position per kya item  dalna hai .\n",
        "\n",
        "\n",
        "     if self.n == self.size:\n",
        "       self.__resize(self.size*2)\n",
        "\n",
        "\n",
        "     for i in range(self.n, pos,-1):## -1 for  reverse loop . \n",
        "       self.A[i] = self.A[i-1]\n",
        "\n",
        "     self.A[pos] = item\n",
        "     self.n = self.n + 1 \n",
        "\n",
        "\n",
        "  def remove(self,item):\n",
        "    pos = self.find(item)\n",
        "\n",
        "    if type(pos)  == int:\n",
        "      #delete\n",
        "      self.__delitem__(pos)\n",
        "    else:\n",
        "      return pos\n",
        "\n",
        "       \n",
        "\n",
        "  def  __resize(self,new_capacity):\n",
        "    ## create a new array with new capacity \n",
        "    B = self.__make__array( new_capacity )\n",
        "    self.size = new_capacity\n",
        "\n",
        "    ## copy the content of a to B \n",
        "    for i in range(self.n):\n",
        "      B[i]=self.A[i]\n",
        "    ## reassign  A \n",
        "    self.A = B \n",
        "\n",
        "\n",
        "    self.A = self.__make__array(self.size)\n",
        "\n",
        "  def __make__array(self,capacity):\n",
        "    ##  creates a c type  array (static,referential) with size capacity \n",
        "    return (capacity*ctypes.py_object)()\n",
        "\n",
        "  \n"
      ],
      "metadata": {
        "id": "kYd2nh_x9syp"
      },
      "execution_count": 158,
      "outputs": []
    },
    {
      "cell_type": "code",
      "source": [
        "L = Meralist()"
      ],
      "metadata": {
        "id": "WutOItXp9s1g"
      },
      "execution_count": 130,
      "outputs": []
    },
    {
      "cell_type": "code",
      "source": [
        "#L.append('hello')\n",
        "#L.append(2.5)\n",
        "#L.append(True)\n",
        "#L.append(100)"
      ],
      "metadata": {
        "id": "LG82XijDQRyF"
      },
      "execution_count": 131,
      "outputs": []
    },
    {
      "cell_type": "code",
      "source": [
        "len(L)"
      ],
      "metadata": {
        "colab": {
          "base_uri": "https://localhost:8080/"
        },
        "id": "kph7_XCfEI-I",
        "outputId": "7cb0de70-9f90-4cb3-cc19-7a752e4f4db8"
      },
      "execution_count": 132,
      "outputs": [
        {
          "output_type": "execute_result",
          "data": {
            "text/plain": [
              "0"
            ]
          },
          "metadata": {},
          "execution_count": 132
        }
      ]
    },
    {
      "cell_type": "code",
      "source": [
        "type(L) ##it is a object of class \n"
      ],
      "metadata": {
        "colab": {
          "base_uri": "https://localhost:8080/"
        },
        "id": "g-ed7xGu9s4v",
        "outputId": "3967c5a3-2bf4-4013-ec2e-4d401c502417"
      },
      "execution_count": 133,
      "outputs": [
        {
          "output_type": "execute_result",
          "data": {
            "text/plain": [
              "__main__.Meralist"
            ]
          },
          "metadata": {},
          "execution_count": 133
        }
      ]
    },
    {
      "cell_type": "code",
      "source": [
        "L = [10,20,30]\n",
        "len(L)"
      ],
      "metadata": {
        "colab": {
          "base_uri": "https://localhost:8080/"
        },
        "id": "dKGRiBC_9s7f",
        "outputId": "71744168-ef1d-45f0-b51d-224024c79f8f"
      },
      "execution_count": 134,
      "outputs": [
        {
          "output_type": "execute_result",
          "data": {
            "text/plain": [
              "3"
            ]
          },
          "metadata": {},
          "execution_count": 134
        }
      ]
    },
    {
      "cell_type": "code",
      "source": [
        "L[0]"
      ],
      "metadata": {
        "colab": {
          "base_uri": "https://localhost:8080/"
        },
        "id": "IDXkcVSwhnZ9",
        "outputId": "5f09eae5-5249-4f10-b041-1d6cbd743873"
      },
      "execution_count": 135,
      "outputs": [
        {
          "output_type": "execute_result",
          "data": {
            "text/plain": [
              "10"
            ]
          },
          "metadata": {},
          "execution_count": 135
        }
      ]
    },
    {
      "cell_type": "code",
      "source": [
        "L.append('hello')#"
      ],
      "metadata": {
        "id": "ZOmdbbP89s-T"
      },
      "execution_count": 136,
      "outputs": []
    },
    {
      "cell_type": "code",
      "source": [
        "L"
      ],
      "metadata": {
        "colab": {
          "base_uri": "https://localhost:8080/"
        },
        "id": "DskkduaUEjqR",
        "outputId": "9b244d10-0601-4499-f0d9-c49b11fff555"
      },
      "execution_count": 137,
      "outputs": [
        {
          "output_type": "execute_result",
          "data": {
            "text/plain": [
              "[10, 20, 30, 'hello']"
            ]
          },
          "metadata": {},
          "execution_count": 137
        }
      ]
    },
    {
      "cell_type": "code",
      "source": [
        "L.append('Hello')\n",
        "L.append('2.5')\n",
        "L.append('true')\n",
        "L.append('100')"
      ],
      "metadata": {
        "id": "S-KSyNYKEj6r"
      },
      "execution_count": 138,
      "outputs": []
    },
    {
      "cell_type": "code",
      "source": [
        "L[0]"
      ],
      "metadata": {
        "colab": {
          "base_uri": "https://localhost:8080/"
        },
        "id": "c4w8z-5UjRl6",
        "outputId": "2bbc12e9-5737-4494-e130-52103a50defc"
      },
      "execution_count": 139,
      "outputs": [
        {
          "output_type": "execute_result",
          "data": {
            "text/plain": [
              "10"
            ]
          },
          "metadata": {},
          "execution_count": 139
        }
      ]
    },
    {
      "cell_type": "code",
      "source": [
        "len(L)"
      ],
      "metadata": {
        "colab": {
          "base_uri": "https://localhost:8080/"
        },
        "id": "Jm6QdhmUEkAe",
        "outputId": "f4591b1c-f214-40b0-a1fa-67cc2c6ea0b2"
      },
      "execution_count": 140,
      "outputs": [
        {
          "output_type": "execute_result",
          "data": {
            "text/plain": [
              "8"
            ]
          },
          "metadata": {},
          "execution_count": 140
        }
      ]
    },
    {
      "cell_type": "code",
      "source": [
        "L"
      ],
      "metadata": {
        "colab": {
          "base_uri": "https://localhost:8080/"
        },
        "id": "_791LWf_EkEU",
        "outputId": "e6140d48-3e61-4759-ae2e-5303291fa54e"
      },
      "execution_count": 141,
      "outputs": [
        {
          "output_type": "execute_result",
          "data": {
            "text/plain": [
              "[10, 20, 30, 'hello', 'Hello', '2.5', 'true', '100']"
            ]
          },
          "metadata": {},
          "execution_count": 141
        }
      ]
    },
    {
      "cell_type": "code",
      "source": [
        "print(L)"
      ],
      "metadata": {
        "colab": {
          "base_uri": "https://localhost:8080/"
        },
        "id": "g-6ooHfWEkHq",
        "outputId": "a8710c31-8c7e-4862-c406-cf82915d6857"
      },
      "execution_count": 142,
      "outputs": [
        {
          "output_type": "stream",
          "name": "stdout",
          "text": [
            "[10, 20, 30, 'hello', 'Hello', '2.5', 'true', '100']\n"
          ]
        }
      ]
    },
    {
      "cell_type": "code",
      "source": [
        "L[3]"
      ],
      "metadata": {
        "colab": {
          "base_uri": "https://localhost:8080/",
          "height": 36
        },
        "id": "6Vl8_p4-9tCj",
        "outputId": "03e8edfd-1ff1-4ede-e114-bc1ba17830a4"
      },
      "execution_count": 113,
      "outputs": [
        {
          "output_type": "execute_result",
          "data": {
            "text/plain": [
              "'IndexError _ Index out of range'"
            ],
            "application/vnd.google.colaboratory.intrinsic+json": {
              "type": "string"
            }
          },
          "metadata": {},
          "execution_count": 113
        }
      ]
    },
    {
      "cell_type": "code",
      "source": [
        "L[400]"
      ],
      "metadata": {
        "colab": {
          "base_uri": "https://localhost:8080/",
          "height": 36
        },
        "id": "uKQXhMhKjy-w",
        "outputId": "e6612972-9257-4fca-f763-80811eb95ce3"
      },
      "execution_count": 114,
      "outputs": [
        {
          "output_type": "execute_result",
          "data": {
            "text/plain": [
              "'IndexError _ Index out of range'"
            ],
            "application/vnd.google.colaboratory.intrinsic+json": {
              "type": "string"
            }
          },
          "metadata": {},
          "execution_count": 114
        }
      ]
    },
    {
      "cell_type": "code",
      "source": [
        "L = [10,20,30]"
      ],
      "metadata": {
        "id": "p2osIxCSjzFN"
      },
      "execution_count": 118,
      "outputs": []
    },
    {
      "cell_type": "code",
      "source": [
        "L.pop() ##delete last element \n"
      ],
      "metadata": {
        "colab": {
          "base_uri": "https://localhost:8080/"
        },
        "id": "r4FruEJ-jzIw",
        "outputId": "6c03b4d1-bb74-4087-8b56-c1ae8292123c"
      },
      "execution_count": 119,
      "outputs": [
        {
          "output_type": "execute_result",
          "data": {
            "text/plain": [
              "30"
            ]
          },
          "metadata": {},
          "execution_count": 119
        }
      ]
    },
    {
      "cell_type": "code",
      "source": [
        "L"
      ],
      "metadata": {
        "colab": {
          "base_uri": "https://localhost:8080/"
        },
        "id": "4-hNN0bNjzLS",
        "outputId": "45a0dd3f-3c61-47ba-fc9e-fefe07e9d7da"
      },
      "execution_count": 120,
      "outputs": [
        {
          "output_type": "execute_result",
          "data": {
            "text/plain": [
              "[10, 20]"
            ]
          },
          "metadata": {},
          "execution_count": 120
        }
      ]
    },
    {
      "cell_type": "code",
      "source": [
        "L.pop()"
      ],
      "metadata": {
        "colab": {
          "base_uri": "https://localhost:8080/"
        },
        "id": "4k7TFu4JkYmn",
        "outputId": "e69b5aae-ff09-4927-ddb8-2955b7504c35"
      },
      "execution_count": 122,
      "outputs": [
        {
          "output_type": "execute_result",
          "data": {
            "text/plain": [
              "20"
            ]
          },
          "metadata": {},
          "execution_count": 122
        }
      ]
    },
    {
      "cell_type": "code",
      "source": [
        "L.clear()"
      ],
      "metadata": {
        "id": "LWR7EED5kYsY"
      },
      "execution_count": 123,
      "outputs": []
    },
    {
      "cell_type": "code",
      "source": [
        "L"
      ],
      "metadata": {
        "colab": {
          "base_uri": "https://localhost:8080/"
        },
        "id": "vc1arNPUlx9D",
        "outputId": "30fbb46d-bf1a-4cfa-c9b9-8c722f2eacd7"
      },
      "execution_count": 124,
      "outputs": [
        {
          "output_type": "execute_result",
          "data": {
            "text/plain": [
              "[]"
            ]
          },
          "metadata": {},
          "execution_count": 124
        }
      ]
    },
    {
      "cell_type": "code",
      "source": [
        "##L.find(10)"
      ],
      "metadata": {
        "id": "7WI28qM5lyAe"
      },
      "execution_count": 144,
      "outputs": []
    },
    {
      "cell_type": "code",
      "source": [
        "L.insert(1,15)"
      ],
      "metadata": {
        "id": "ZvNvHezclyCm"
      },
      "execution_count": 145,
      "outputs": []
    },
    {
      "cell_type": "code",
      "source": [
        "L"
      ],
      "metadata": {
        "colab": {
          "base_uri": "https://localhost:8080/"
        },
        "id": "goR7kDqBoDJl",
        "outputId": "bdf508fc-7f02-467f-d98a-a86448f92ec9"
      },
      "execution_count": 146,
      "outputs": [
        {
          "output_type": "execute_result",
          "data": {
            "text/plain": [
              "[10, 15, 20, 30, 'hello', 'Hello', '2.5', 'true', '100']"
            ]
          },
          "metadata": {},
          "execution_count": 146
        }
      ]
    },
    {
      "cell_type": "code",
      "source": [
        "del L[1]"
      ],
      "metadata": {
        "id": "vefjDt3CoDNh"
      },
      "execution_count": 149,
      "outputs": []
    },
    {
      "cell_type": "code",
      "source": [
        "L"
      ],
      "metadata": {
        "colab": {
          "base_uri": "https://localhost:8080/"
        },
        "id": "9jXcR2uKoDRC",
        "outputId": "933087e6-2b13-493b-ce65-5ec58e2aea0d"
      },
      "execution_count": 150,
      "outputs": [
        {
          "output_type": "execute_result",
          "data": {
            "text/plain": [
              "[10, 20, 30, 'hello', 'Hello', '2.5', 'true', '100']"
            ]
          },
          "metadata": {},
          "execution_count": 150
        }
      ]
    },
    {
      "cell_type": "code",
      "source": [
        "del L[3]"
      ],
      "metadata": {
        "id": "vuNbVmyZoDT0"
      },
      "execution_count": 152,
      "outputs": []
    },
    {
      "cell_type": "code",
      "source": [
        "L"
      ],
      "metadata": {
        "colab": {
          "base_uri": "https://localhost:8080/"
        },
        "id": "32c-dBjqEuJf",
        "outputId": "f101010a-7fa4-4900-8ef9-51a16648768d"
      },
      "execution_count": 153,
      "outputs": [
        {
          "output_type": "execute_result",
          "data": {
            "text/plain": [
              "[10, 20, 30, 'Hello', '2.5', 'true', '100']"
            ]
          },
          "metadata": {},
          "execution_count": 153
        }
      ]
    },
    {
      "cell_type": "code",
      "source": [
        "L.remove(20) ## remove value ko dlt karta hai or delete  index ko dlt karta hai \n",
        " "
      ],
      "metadata": {
        "id": "6P7pPV2mEx9n"
      },
      "execution_count": 157,
      "outputs": []
    },
    {
      "cell_type": "code",
      "source": [],
      "metadata": {
        "id": "Q5bmezVFEyBA"
      },
      "execution_count": null,
      "outputs": []
    },
    {
      "cell_type": "code",
      "source": [],
      "metadata": {
        "id": "PAVFLlD5EyD6"
      },
      "execution_count": null,
      "outputs": []
    },
    {
      "cell_type": "code",
      "source": [],
      "metadata": {
        "id": "wGlZ6FsOEyIL"
      },
      "execution_count": null,
      "outputs": []
    }
  ]
}