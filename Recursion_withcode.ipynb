{
  "cells": [
    {
      "cell_type": "markdown",
      "id": "6edfcf90",
      "metadata": {
        "id": "6edfcf90"
      },
      "source": [
        "<center><h1>RECURSION</h1></center>\n",
        "\n",
        "A recursive function solves a particular problem by calling a copy of itself and solving smaller subproblems of the original problems.\n",
        "\n",
        "<img src=\"https://thevaluable.dev/images/2020/recursion/recursion.jpg\" width=\"600px\" height=\"400px\" />"
      ]
    },
    {
      "cell_type": "markdown",
      "source": [
        "## **`WATCH VIDEOS IN THE PORTAL`**"
      ],
      "metadata": {
        "id": "3s-guPanrW9z"
      },
      "id": "3s-guPanrW9z"
    },
    {
      "cell_type": "markdown",
      "id": "313039dd",
      "metadata": {
        "id": "313039dd"
      },
      "source": [
        "## Problems"
      ]
    },
    {
      "cell_type": "markdown",
      "id": "fccf9699",
      "metadata": {
        "id": "fccf9699"
      },
      "source": [
        "### Problem-1\n",
        "\n",
        "Given an integer n, compute the sum of n numbers using recursion.\n",
        "\n",
        "<b>Input:</b> 5<br/>\n",
        "<b>Output:</b> 15"
      ]
    },
    {
      "cell_type": "markdown",
      "source": [
        "### **`Watch Solved Problem 1: Sum of All Numbers`**"
      ],
      "metadata": {
        "id": "TwCBjvUxrRxJ"
      },
      "id": "TwCBjvUxrRxJ"
    },
    {
      "cell_type": "code",
      "execution_count": 1,
      "id": "03556728",
      "metadata": {
        "id": "03556728"
      },
      "outputs": [],
      "source": [
        "def compute_sum(n):\n",
        "\n",
        "    # base case\n",
        "    if n==0:\n",
        "      return 0\n",
        "\n",
        "\n",
        "    # reccurence function\n",
        "    return n + compute_sum(n-1)\n",
        "\n",
        ""
      ]
    },
    {
      "cell_type": "code",
      "execution_count": 2,
      "id": "c700b829",
      "metadata": {
        "id": "c700b829",
        "outputId": "2e0b27c9-dbbb-4af7-c388-4ee85a8f72a2",
        "colab": {
          "base_uri": "https://localhost:8080/"
        }
      },
      "outputs": [
        {
          "output_type": "execute_result",
          "data": {
            "text/plain": [
              "15"
            ]
          },
          "metadata": {},
          "execution_count": 2
        }
      ],
      "source": [
        "# call the function with value 5\n",
        "\n",
        "compute_sum(5)\n"
      ]
    },
    {
      "cell_type": "code",
      "execution_count": 3,
      "id": "8619494a",
      "metadata": {
        "id": "8619494a",
        "outputId": "52ea9602-12c6-4e08-9e73-087c11ae998b",
        "colab": {
          "base_uri": "https://localhost:8080/"
        }
      },
      "outputs": [
        {
          "output_type": "execute_result",
          "data": {
            "text/plain": [
              "55"
            ]
          },
          "metadata": {},
          "execution_count": 3
        }
      ],
      "source": [
        "# call the function with value 10\n",
        "\n",
        "compute_sum(10)\n",
        "\n"
      ]
    },
    {
      "cell_type": "markdown",
      "id": "64946f14",
      "metadata": {
        "id": "64946f14"
      },
      "source": [
        "### Problem-2\n",
        "\n",
        "Write a function to generate the nth fibonacci number.\n",
        "\n",
        "<b>Input:</b> 5<br/>\n",
        "<b>Output:</b> 5\n",
        "\n",
        "<b>Input:</b> 10<br/>\n",
        "<b>Output:</b> 55"
      ]
    },
    {
      "cell_type": "markdown",
      "source": [
        "### **`Watch Solved Problem 2: Nth Fibonacci Number`**"
      ],
      "metadata": {
        "id": "-okzfjtprfWA"
      },
      "id": "-okzfjtprfWA"
    },
    {
      "cell_type": "code",
      "execution_count": 4,
      "id": "2e3d263a",
      "metadata": {
        "id": "2e3d263a"
      },
      "outputs": [],
      "source": [
        "def fibonacci(n):\n",
        "\n",
        "    # base case\n",
        "\n",
        "    if n<=0:\n",
        "      return n\n",
        "\n",
        "\n",
        "    # recurrence function\n",
        "    return fibonacci(n-1) + fibonacci(n-2)\n",
        "\n",
        ""
      ]
    },
    {
      "cell_type": "code",
      "execution_count": 5,
      "id": "59def8c0",
      "metadata": {
        "id": "59def8c0",
        "outputId": "d53811fc-13ba-4992-edea-65e194eb9ee7",
        "colab": {
          "base_uri": "https://localhost:8080/"
        }
      },
      "outputs": [
        {
          "output_type": "execute_result",
          "data": {
            "text/plain": [
              "-5"
            ]
          },
          "metadata": {},
          "execution_count": 5
        }
      ],
      "source": [
        "# call fibonacci with value 5\n",
        "\n",
        "fibonacci(5)"
      ]
    },
    {
      "cell_type": "code",
      "execution_count": 6,
      "id": "e55d7fee",
      "metadata": {
        "id": "e55d7fee",
        "outputId": "3e7c80ba-7728-4220-9361-55ef1efb3dd4",
        "colab": {
          "base_uri": "https://localhost:8080/"
        }
      },
      "outputs": [
        {
          "output_type": "execute_result",
          "data": {
            "text/plain": [
              "-55"
            ]
          },
          "metadata": {},
          "execution_count": 6
        }
      ],
      "source": [
        "# call fibonacci with value 10\n",
        "\n",
        "fibonacci(10)\n"
      ]
    },
    {
      "cell_type": "markdown",
      "id": "cc0d8adb",
      "metadata": {
        "id": "cc0d8adb"
      },
      "source": [
        "### Problem-3\n",
        "\n",
        "Write a function using recursion that takes an array as input and returns a reversed array.\n",
        "\n",
        "<b>Input:</b> [1,2,3,4,5]<br/>\n",
        "<b>Output:</b> [5,4,3,2,1]"
      ]
    },
    {
      "cell_type": "markdown",
      "source": [
        "### **`Watch Solved Problem 3: Reversed Array`**"
      ],
      "metadata": {
        "id": "GVoo5Vu5r5-j"
      },
      "id": "GVoo5Vu5r5-j"
    },
    {
      "cell_type": "code",
      "execution_count": 8,
      "id": "8e3d41e4",
      "metadata": {
        "id": "8e3d41e4"
      },
      "outputs": [],
      "source": [
        "def helper(array, left, right):\n",
        "\n",
        "    # base case\n",
        "    if left >= right:\n",
        "      return\n",
        "\n",
        "\n",
        "    # performing swap\n",
        "    array[left],array[right] = array[right],array[left]\n",
        "\n",
        "\n",
        "    # recurrence function\n",
        "    helper(array,left+1,right-1)\n",
        "\n",
        "\n",
        "def reverse_array(array):\n",
        "    # assign n equal to length of array\n",
        "    n = len(array)\n",
        "    # assign left as 0\n",
        "    left = 0\n",
        "    # assign right as n-1\n",
        "    right = n-1\n",
        "\n",
        "    # defining a helper function\n",
        "    helper(array,left,right)\n",
        "    # return array\n",
        "    return array"
      ]
    },
    {
      "cell_type": "code",
      "execution_count": 9,
      "id": "77ddad9a",
      "metadata": {
        "id": "77ddad9a",
        "outputId": "e977abf2-8d99-43da-ce61-fc1e9e1ca90d",
        "colab": {
          "base_uri": "https://localhost:8080/"
        }
      },
      "outputs": [
        {
          "output_type": "execute_result",
          "data": {
            "text/plain": [
              "[5, 4, 3, 2, 1]"
            ]
          },
          "metadata": {},
          "execution_count": 9
        }
      ],
      "source": [
        "# call reverse array with an array [1,2,3,4,5]\n",
        "\n",
        "reverse_array([1,2,3,4,5])\n"
      ]
    },
    {
      "cell_type": "code",
      "execution_count": 10,
      "id": "c2f4f138",
      "metadata": {
        "id": "c2f4f138",
        "outputId": "56bc181a-7527-4a90-ceff-e11be1f33c5d",
        "colab": {
          "base_uri": "https://localhost:8080/"
        }
      },
      "outputs": [
        {
          "output_type": "execute_result",
          "data": {
            "text/plain": [
              "[18, 10, 4, 6, 12, 10]"
            ]
          },
          "metadata": {},
          "execution_count": 10
        }
      ],
      "source": [
        "# call reverse array with an array [10,12,6,4,10,18]\n",
        "\n",
        "reverse_array([10,12,6,4,10,18])\n"
      ]
    },
    {
      "cell_type": "markdown",
      "id": "54462794",
      "metadata": {
        "id": "54462794"
      },
      "source": [
        "### Problem-4\n",
        "\n",
        "Given an array, print all the subsequences for that array. (The susequences can be in any order)\n",
        "\n",
        "<b>Input: </b>[3,1,2]<br/>\n",
        "<b>Output: </b> [[], [2], [1], [1,2], [3], [3,2], [3,1], [3,1,2]]"
      ]
    },
    {
      "cell_type": "markdown",
      "source": [
        "### **`Watch Solved Problem 4: Subsequence`**"
      ],
      "metadata": {
        "id": "qQiRB0E8r_9n"
      },
      "id": "qQiRB0E8r_9n"
    },
    {
      "cell_type": "code",
      "execution_count": 11,
      "id": "fc2e7d32",
      "metadata": {
        "id": "fc2e7d32"
      },
      "outputs": [],
      "source": [
        "def helper(index, l, n, ds):\n",
        "\n",
        "    # base case\n",
        "    if index == n:\n",
        "      print(ds)\n",
        "      return\n",
        "\n",
        "\n",
        "\n",
        "    # pick case(first append l[index] and the call helper)\n",
        "    ds.append(l[index])\n",
        "    helper(index+1,l,n,ds)\n",
        "\n",
        "\n",
        "    # not pick case(first pop and then call helper)\n",
        "    ds.pop()\n",
        "    helper(index+1,l,n,ds)\n",
        "\n",
        "\n",
        "def print_subsequences(l):\n",
        "\n",
        "    # store the length of the list\n",
        "    n = len(l)\n",
        "    # assign ds an empty list\n",
        "    ds = []\n",
        "\n",
        "    # call helper function\n",
        "    helper(0,l,n,ds)"
      ]
    },
    {
      "cell_type": "code",
      "execution_count": 12,
      "id": "efab746f",
      "metadata": {
        "id": "efab746f",
        "outputId": "78eb3bd3-fd06-4fc6-cc32-bfecc2567040",
        "colab": {
          "base_uri": "https://localhost:8080/"
        }
      },
      "outputs": [
        {
          "output_type": "stream",
          "name": "stdout",
          "text": [
            "[3, 1, 2]\n",
            "[3, 1]\n",
            "[3, 2]\n",
            "[3]\n",
            "[1, 2]\n",
            "[1]\n",
            "[2]\n",
            "[]\n"
          ]
        }
      ],
      "source": [
        "# call print subsequences with values [3, 1, 2]\n",
        "\n",
        "print_subsequences([3,1,2])\n"
      ]
    },
    {
      "cell_type": "code",
      "execution_count": 13,
      "id": "b2e13900",
      "metadata": {
        "scrolled": true,
        "id": "b2e13900",
        "outputId": "6258cbcd-9940-4e18-c28d-4a435534bce1",
        "colab": {
          "base_uri": "https://localhost:8080/"
        }
      },
      "outputs": [
        {
          "output_type": "stream",
          "name": "stdout",
          "text": [
            "[100, 200, 300, 400]\n",
            "[100, 200, 300]\n",
            "[100, 200, 400]\n",
            "[100, 200]\n",
            "[100, 300, 400]\n",
            "[100, 300]\n",
            "[100, 400]\n",
            "[100]\n",
            "[200, 300, 400]\n",
            "[200, 300]\n",
            "[200, 400]\n",
            "[200]\n",
            "[300, 400]\n",
            "[300]\n",
            "[400]\n",
            "[]\n"
          ]
        }
      ],
      "source": [
        "# call print subsequences with values [100, 200, 300, 400]\n",
        "\n",
        "print_subsequences([100,200,300,400])\n"
      ]
    },
    {
      "cell_type": "markdown",
      "id": "6252b53f",
      "metadata": {
        "id": "6252b53f"
      },
      "source": [
        "### Problem - 5\n",
        "\n",
        "Given an array of distinct integers and a target, you have to return the list of all unique combinations where the chosen numbers sum to target. You may return the combinations in any order.\n",
        "\n",
        "The same number may be chosen from the given array an unlimited number of times. Two combinations are unique if the frequency of at least one of the chosen numbers is different.\n",
        "\n",
        "It is guaranteed that the number of unique combinations that sum up to target is less than 150 combinations for the given input.\n",
        "\n",
        "<b>Input:</b> candidates = [2,3,6,7], target = 7<br/>\n",
        "<b>Output:</b><br/>\n",
        "[2,2,3]<br/>\n",
        "[7]"
      ]
    },
    {
      "cell_type": "markdown",
      "source": [
        "### **`Watch Solved Problem 5: Unique Combination`**"
      ],
      "metadata": {
        "id": "AC-W51CEsa4L"
      },
      "id": "AC-W51CEsa4L"
    },
    {
      "cell_type": "code",
      "execution_count": 22,
      "id": "56cd9852",
      "metadata": {
        "id": "56cd9852"
      },
      "outputs": [],
      "source": [
        "ds =[]\n",
        "def helper(index, candidates, target):\n",
        "\n",
        "    # base case\n",
        "    if index == len(candidates):\n",
        "      if target==0:\n",
        "        print(ds)\n",
        "      return\n",
        "\n",
        "    # pick case\n",
        "    if candidates[index] <= target:\n",
        "      ds.append(candidates[index])\n",
        "      if target-candidates[index] >= 0:\n",
        "        helper(index,candidates,target-candidates[index])\n",
        "      ds.pop()\n",
        "\n",
        "\n",
        "    # not pick case\n",
        "    helper(index+1,candidates,target)\n",
        "\n",
        "\n",
        "def combinationSum(candidates, target):\n",
        "  helper(0,candidates,target)\n",
        "    # assign ds an empty list\n",
        "\n",
        "    # call helper function\n",
        "    # helper(0,candidates,target)\n",
        ""
      ]
    },
    {
      "cell_type": "code",
      "execution_count": 23,
      "id": "158bbf2d",
      "metadata": {
        "id": "158bbf2d",
        "outputId": "1d2a4658-1e76-4789-b706-9700a7e15ea6",
        "colab": {
          "base_uri": "https://localhost:8080/"
        }
      },
      "outputs": [
        {
          "output_type": "stream",
          "name": "stdout",
          "text": [
            "[2, 2, 3]\n",
            "[7]\n"
          ]
        }
      ],
      "source": [
        "# call combinationsum with candidates=[2,3,6,7] and target=7\n",
        "\n",
        "combinationSum([2,3,6,7],7)"
      ]
    },
    {
      "cell_type": "code",
      "execution_count": 24,
      "id": "c8ac560c",
      "metadata": {
        "id": "c8ac560c",
        "outputId": "da655c11-c714-4e9c-fc25-7307b06189d6",
        "colab": {
          "base_uri": "https://localhost:8080/"
        }
      },
      "outputs": [
        {
          "output_type": "stream",
          "name": "stdout",
          "text": [
            "[2, 2, 2, 2]\n",
            "[2, 3, 3]\n",
            "[3, 5]\n"
          ]
        }
      ],
      "source": [
        "# call combinationsum with candidates=[2,3,5] and target=8\n",
        "\n",
        "combinationSum([2,3,5],8)"
      ]
    },
    {
      "cell_type": "markdown",
      "id": "0d526126",
      "metadata": {
        "id": "0d526126"
      },
      "source": [
        "### Problem-6\n",
        "\n",
        "Given an array nums of distinct integers, return all the possible permutations. You can return the answer in any order.\n",
        "\n",
        "<b>Input:</b> nums = [1,2,3]<br/>\n",
        "<b>Output:</b><br/>\n",
        "[1,2,3]<br/>\n",
        "[1,3,2]<br/>\n",
        "[2,1,3]<br/>\n",
        "[2,3,1]<br/>\n",
        "[3,1,2]<br/>\n",
        "[3,2,1]<br/>\n",
        "\n",
        "<b>Input:</b> nums = [0,1]<br/>\n",
        "<b>Output:</b><br/>\n",
        "[0,1]<br/>\n",
        "[1,0]\n",
        "\n",
        "<b>Input:</b> nums = [1]<br/>\n",
        "<b>Output:</b><br/>\n",
        "[1]"
      ]
    },
    {
      "cell_type": "markdown",
      "source": [
        "### **`Watch Solved Problem 6: Possible Permutation`**"
      ],
      "metadata": {
        "id": "_puwbP2msm87"
      },
      "id": "_puwbP2msm87"
    },
    {
      "cell_type": "code",
      "execution_count": 16,
      "id": "add13fa1",
      "metadata": {
        "id": "add13fa1"
      },
      "outputs": [],
      "source": [
        "ds = []\n",
        "def helper(nums, n, freq, ds):\n",
        "\n",
        "    # base case\n",
        "\n",
        "    if len(ds) ==n:\n",
        "      print(ds)\n",
        "      return\n",
        "\n",
        "\n",
        "    # iterating over each index and if that index is not considered\n",
        "    # then consider it under permutation and call recursively\n",
        "\n",
        "    for i in range(n):\n",
        "      if freq[i] !=1:\n",
        "        freq[i] = 1\n",
        "        ds.append(nums[i])\n",
        "        helper(nums,n,freq,ds)\n",
        "        freq[i]=0\n",
        "        ds.pop()\n",
        "\n",
        "\n",
        "\n",
        "\n",
        "def generate_permutations(nums):\n",
        "    # save length of nums in n\n",
        "    n = len(nums)\n",
        "    # loop over range of n and create an array of zeros\n",
        "    freq = [0 for _ in range(n)]\n",
        "    # assign an empty list to ds\n",
        "    # call helper function\n",
        "    helper(nums,n,freq,ds)\n",
        "\n",
        ""
      ]
    },
    {
      "cell_type": "code",
      "execution_count": 17,
      "id": "6472f191",
      "metadata": {
        "id": "6472f191",
        "outputId": "6ee167d6-d51e-4de9-ac8e-794d2fc04bf4",
        "colab": {
          "base_uri": "https://localhost:8080/"
        }
      },
      "outputs": [
        {
          "output_type": "stream",
          "name": "stdout",
          "text": [
            "[1, 2, 3]\n",
            "[1, 3, 2]\n",
            "[2, 1, 3]\n",
            "[2, 3, 1]\n",
            "[3, 1, 2]\n",
            "[3, 2, 1]\n"
          ]
        }
      ],
      "source": [
        "# call generate permutations with values [1,2,3]\n",
        "\n",
        "generate_permutations([1,2,3])\n"
      ]
    },
    {
      "cell_type": "code",
      "execution_count": 20,
      "id": "d6879574",
      "metadata": {
        "id": "d6879574",
        "outputId": "5cb038d5-0c88-45ec-acf4-8776b07d6a2e",
        "colab": {
          "base_uri": "https://localhost:8080/"
        }
      },
      "outputs": [
        {
          "output_type": "stream",
          "name": "stdout",
          "text": [
            "[0, 1]\n",
            "[1, 0]\n"
          ]
        }
      ],
      "source": [
        "# call generate permutations with values [0, 1]\n",
        "generate_permutations([0,1])"
      ]
    },
    {
      "cell_type": "code",
      "execution_count": 21,
      "id": "b5b2d390",
      "metadata": {
        "id": "b5b2d390",
        "outputId": "d360e08e-8159-4f2f-8e89-0ff9c99432c4",
        "colab": {
          "base_uri": "https://localhost:8080/"
        }
      },
      "outputs": [
        {
          "output_type": "stream",
          "name": "stdout",
          "text": [
            "[1]\n"
          ]
        }
      ],
      "source": [
        "# call generate permutations with values [1]\n",
        "\n",
        "generate_permutations([1])\n"
      ]
    },
    {
      "cell_type": "markdown",
      "id": "91166cba",
      "metadata": {
        "id": "91166cba"
      },
      "source": [
        "## Unsolved Problems"
      ]
    },
    {
      "cell_type": "markdown",
      "id": "3e440c36",
      "metadata": {
        "id": "3e440c36"
      },
      "source": [
        "### Problem-1\n",
        "\n",
        "Print the fiven string n number of times using recursion.\n",
        "\n",
        "<b>Input:</b> name=\"sam\", n=4<br/>\n",
        "<b>Output:</b><br/>\n",
        "sam<br/>\n",
        "sam<br/>\n",
        "sam<br/>\n",
        "sam<br/>"
      ]
    },
    {
      "cell_type": "code",
      "execution_count": 1,
      "id": "e43e410e",
      "metadata": {
        "id": "e43e410e"
      },
      "outputs": [],
      "source": [
        "def print_n_names(name, n):\n",
        "\n",
        "    # code below\n",
        "    if n==0:\n",
        "      return\n",
        "\n",
        "    print(name)\n",
        "    print_n_names(name,n-1)\n",
        "\n",
        "\n",
        "\n",
        ""
      ]
    },
    {
      "cell_type": "code",
      "execution_count": 2,
      "id": "16d2fac3",
      "metadata": {
        "id": "16d2fac3",
        "outputId": "408ce74c-708c-480a-c3e0-0e4505f9d4f1",
        "colab": {
          "base_uri": "https://localhost:8080/"
        }
      },
      "outputs": [
        {
          "output_type": "stream",
          "name": "stdout",
          "text": [
            "sam\n",
            "sam\n",
            "sam\n",
            "sam\n"
          ]
        }
      ],
      "source": [
        "# call print n names function with name \"sam\" and n=4\n",
        "\n",
        "print_n_names(\"sam\",4)\n",
        "\n"
      ]
    },
    {
      "cell_type": "code",
      "execution_count": 3,
      "id": "fd18c459",
      "metadata": {
        "scrolled": true,
        "id": "fd18c459",
        "outputId": "b6a53adb-0350-43f4-9308-d65c1f22ee36",
        "colab": {
          "base_uri": "https://localhost:8080/"
        }
      },
      "outputs": [
        {
          "output_type": "stream",
          "name": "stdout",
          "text": [
            "dean\n",
            "dean\n",
            "dean\n",
            "dean\n",
            "dean\n",
            "dean\n"
          ]
        }
      ],
      "source": [
        "# call print n names function with name \"dean\" and n=6\n",
        "\n",
        "\n",
        "print_n_names(\"dean\",6)\n"
      ]
    },
    {
      "cell_type": "markdown",
      "id": "cbaa6d05",
      "metadata": {
        "id": "cbaa6d05"
      },
      "source": [
        "### Problem-2\n",
        "\n",
        "Given a string, write a recurrence function to check whether the input is pallindrome or not.\n",
        "\n",
        "<b>Input:</b> \"madam\"<br/>\n",
        "<b>Output:</b> True\n",
        "\n",
        "<b>Input:</b> \"bob\"<br/>\n",
        "<b>Output:</b> True\n",
        "\n",
        "<b>Input:</b> \"cobbler\"<br/>\n",
        "<b>Output:</b> False"
      ]
    },
    {
      "cell_type": "code",
      "execution_count": 13,
      "id": "41de24b9",
      "metadata": {
        "id": "41de24b9"
      },
      "outputs": [],
      "source": [
        "def helper(string, left, right):\n",
        "   # code below\n",
        "\n",
        "   if (left>=right):\n",
        "    return True\n",
        "   if string[left] != string[right]:\n",
        "      return False\n",
        "   return helper(string,left+1,right-1)\n",
        "\n",
        "\n",
        "def pallindrome(string):\n",
        "    # code below\n",
        "\n",
        "    n = len(string)\n",
        "    left = 0\n",
        "    right = n-1\n",
        "    return helper(string,0,n-1)\n",
        "\n",
        "\n",
        "\n",
        "\n",
        "\n",
        ""
      ]
    },
    {
      "cell_type": "code",
      "execution_count": 14,
      "id": "8c05b45e",
      "metadata": {
        "id": "8c05b45e",
        "outputId": "75b88f5f-5fc5-44e9-8694-69a9c0719287",
        "colab": {
          "base_uri": "https://localhost:8080/"
        }
      },
      "outputs": [
        {
          "output_type": "execute_result",
          "data": {
            "text/plain": [
              "True"
            ]
          },
          "metadata": {},
          "execution_count": 14
        }
      ],
      "source": [
        "# call palindrome with value \"madam\"\n",
        "\n",
        "pallindrome(\"madam\")"
      ]
    },
    {
      "cell_type": "code",
      "execution_count": 12,
      "id": "da2dfdf9",
      "metadata": {
        "id": "da2dfdf9"
      },
      "outputs": [],
      "source": [
        "# call palindrome with value \"bob\"\n",
        "pallindrome(\"bob\")\n",
        "\n"
      ]
    },
    {
      "cell_type": "code",
      "execution_count": 15,
      "id": "dafa0414",
      "metadata": {
        "id": "dafa0414",
        "outputId": "09666300-a742-4656-e501-e9855544fdfc",
        "colab": {
          "base_uri": "https://localhost:8080/"
        }
      },
      "outputs": [
        {
          "output_type": "execute_result",
          "data": {
            "text/plain": [
              "False"
            ]
          },
          "metadata": {},
          "execution_count": 15
        }
      ],
      "source": [
        "# call palindrome with value \"cobbler\"\n",
        "\n",
        "pallindrome(\"cobbler\")\n"
      ]
    },
    {
      "cell_type": "markdown",
      "id": "7e88b14e",
      "metadata": {
        "id": "7e88b14e"
      },
      "source": [
        "### Problem-3\n",
        "\n",
        "Given a list arr of N integers, print sums of all subsets in it.\n",
        "\n",
        "<b>Input:</b>n=2, arr={2,3}<br/>\n",
        "<b>Output:</b> [5, 2, 3, 0]\n",
        "\n",
        "<b>Input:</b>n=3, arr={5, 2, 1}<br/>\n",
        "<b>Output:</b> [8, 7, 6, 5, 3, 2, 1, 0]"
      ]
    },
    {
      "cell_type": "code",
      "execution_count": 4,
      "id": "ec597fc3",
      "metadata": {
        "id": "ec597fc3"
      },
      "outputs": [],
      "source": [
        "def helper(index, total_sum, arr, n, ans):\n",
        "\n",
        "    # code below\n",
        "    #base case\n",
        "    if index ==n :\n",
        "      ans.append(total_sum)\n",
        "      return\n",
        "     #pick case\n",
        "    total_sum += arr[index]\n",
        "    helper(index+1,total_sum,arr,n,ans)\n",
        "    total_sum -= arr[index]\n",
        "\n",
        "    #not pick case\n",
        "    helper(index+1,total_sum,arr,n,ans)\n",
        "\n",
        "def subset_sum(arr, n):\n",
        "    # code below\n",
        "    ans = []\n",
        "    helper(0,0,arr,n,ans)\n",
        "    return ans\n",
        "\n",
        "\n",
        "\n",
        "\n",
        "\n",
        ""
      ]
    },
    {
      "cell_type": "code",
      "execution_count": 5,
      "id": "9c7b82b1",
      "metadata": {
        "id": "9c7b82b1",
        "outputId": "f428f51b-0383-4e1a-b8ae-15167c99686c",
        "colab": {
          "base_uri": "https://localhost:8080/"
        }
      },
      "outputs": [
        {
          "output_type": "execute_result",
          "data": {
            "text/plain": [
              "[5, 2, 3, 0]"
            ]
          },
          "metadata": {},
          "execution_count": 5
        }
      ],
      "source": [
        "# call subset with arr=[2,3], and n  2\n",
        "\n",
        "\n",
        "subset_sum([2,3],2)\n"
      ]
    },
    {
      "cell_type": "code",
      "execution_count": 6,
      "id": "fcb7971f",
      "metadata": {
        "id": "fcb7971f",
        "outputId": "3c7a9f11-ef48-4144-b967-3690084fde60",
        "colab": {
          "base_uri": "https://localhost:8080/"
        }
      },
      "outputs": [
        {
          "output_type": "execute_result",
          "data": {
            "text/plain": [
              "[8, 7, 6, 5, 3, 2, 1, 0]"
            ]
          },
          "metadata": {},
          "execution_count": 6
        }
      ],
      "source": [
        "# call subset with arr = [5,2,1], n = 3\n",
        "subset_sum([5,2,1],3)\n"
      ]
    },
    {
      "cell_type": "markdown",
      "id": "977e8d80",
      "metadata": {
        "id": "977e8d80"
      },
      "source": [
        "### Problem-4\n",
        "\n",
        "Write a recursive function to calculate the factorial for a number.\n",
        "\n",
        "<b>Input:</b> 5<br/>\n",
        "<b>Output:</b> 120"
      ]
    },
    {
      "cell_type": "code",
      "execution_count": 9,
      "id": "0d6d073d",
      "metadata": {
        "id": "0d6d073d"
      },
      "outputs": [],
      "source": [
        "def factorial(n):\n",
        "\n",
        "    # code below\n",
        "    if n==0 or n==1:\n",
        "      return 1\n",
        "    return n*factorial(n-1)\n",
        "\n",
        "\n",
        "\n",
        ""
      ]
    },
    {
      "cell_type": "code",
      "execution_count": 10,
      "id": "98ec66e7",
      "metadata": {
        "id": "98ec66e7",
        "outputId": "7aeb133b-a621-4085-cc1b-390d3c90380a",
        "colab": {
          "base_uri": "https://localhost:8080/"
        }
      },
      "outputs": [
        {
          "output_type": "execute_result",
          "data": {
            "text/plain": [
              "120"
            ]
          },
          "metadata": {},
          "execution_count": 10
        }
      ],
      "source": [
        "# call factorial(5)\n",
        "\n",
        "factorial(5)"
      ]
    },
    {
      "cell_type": "code",
      "execution_count": 11,
      "id": "1bcbe863",
      "metadata": {
        "id": "1bcbe863",
        "outputId": "400ca6f8-66a4-4205-8c8e-22bb888c27f9",
        "colab": {
          "base_uri": "https://localhost:8080/"
        }
      },
      "outputs": [
        {
          "output_type": "execute_result",
          "data": {
            "text/plain": [
              "479001600"
            ]
          },
          "metadata": {},
          "execution_count": 11
        }
      ],
      "source": [
        "# call factorial(12)\n",
        "\n",
        "\n",
        "factorial(12)"
      ]
    }
  ],
  "metadata": {
    "kernelspec": {
      "display_name": "Python 3",
      "language": "python",
      "name": "python3"
    },
    "language_info": {
      "codemirror_mode": {
        "name": "ipython",
        "version": 3
      },
      "file_extension": ".py",
      "mimetype": "text/x-python",
      "name": "python",
      "nbconvert_exporter": "python",
      "pygments_lexer": "ipython3",
      "version": "3.8.8"
    },
    "colab": {
      "provenance": []
    }
  },
  "nbformat": 4,
  "nbformat_minor": 5
}